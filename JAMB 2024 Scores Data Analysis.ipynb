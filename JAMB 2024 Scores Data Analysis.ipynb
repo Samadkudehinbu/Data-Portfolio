{
 "cells": [
  {
   "cell_type": "markdown",
   "id": "f1b6d3ab-556e-4ec6-bc8c-54602efd52fc",
   "metadata": {},
   "source": [
    "# Analyzing Educational Performance: Insights from JAMB 2024 Data"
   ]
  },
  {
   "cell_type": "markdown",
   "id": "fcfd4714-7c2a-48bc-b0ba-ea7053ea6bb5",
   "metadata": {},
   "source": [
    "#### Importing Libraries"
   ]
  },
  {
   "cell_type": "code",
   "execution_count": 2,
   "id": "7453f153-59e4-4d1a-bdd7-90cc05da0a4d",
   "metadata": {},
   "outputs": [],
   "source": [
    "import pandas as pd\n",
    "import seaborn as sns\n",
    "import matplotlib.pyplot as plt"
   ]
  },
  {
   "cell_type": "markdown",
   "id": "e4c24a76-c416-4f36-b693-f2d928329f15",
   "metadata": {},
   "source": [
    "#### Loading Dataset"
   ]
  },
  {
   "cell_type": "code",
   "execution_count": 3,
   "id": "289f3eb2-479a-49b8-bd2e-3e847d4ace1a",
   "metadata": {},
   "outputs": [],
   "source": [
    "data = pd.read_excel(r\"C:\\Users\\830 G7 New Version\\Documents\\Data Analysis\\DA Career Portfolio\\Python\\Datasets\\JAMB\\jamb_exam_results - actual.xlsx\")"
   ]
  },
  {
   "cell_type": "code",
   "execution_count": 4,
   "id": "3f94516b-0813-4f0d-84dc-d04039503678",
   "metadata": {},
   "outputs": [
    {
     "data": {
      "text/html": [
       "<div>\n",
       "<style scoped>\n",
       "    .dataframe tbody tr th:only-of-type {\n",
       "        vertical-align: middle;\n",
       "    }\n",
       "\n",
       "    .dataframe tbody tr th {\n",
       "        vertical-align: top;\n",
       "    }\n",
       "\n",
       "    .dataframe thead th {\n",
       "        text-align: right;\n",
       "    }\n",
       "</style>\n",
       "<table border=\"1\" class=\"dataframe\">\n",
       "  <thead>\n",
       "    <tr style=\"text-align: right;\">\n",
       "      <th></th>\n",
       "      <th>JAMB_Score</th>\n",
       "      <th>Score_Bracket</th>\n",
       "      <th>Study_Hours_Per_Week</th>\n",
       "      <th>Attendance_Rate</th>\n",
       "      <th>Attendance_Rate_Bracket</th>\n",
       "      <th>Teacher_Quality</th>\n",
       "      <th>Distance_To_School</th>\n",
       "      <th>Distance_To_School.1</th>\n",
       "      <th>School_Type</th>\n",
       "      <th>School_Location</th>\n",
       "      <th>Extra_Tutorials</th>\n",
       "      <th>Access_To_Learning_Materials</th>\n",
       "      <th>Parent_Involvement</th>\n",
       "      <th>IT_Knowledge</th>\n",
       "      <th>Age</th>\n",
       "      <th>Gender</th>\n",
       "      <th>Socioeconomic_Status</th>\n",
       "      <th>Parent_Education_Level</th>\n",
       "    </tr>\n",
       "  </thead>\n",
       "  <tbody>\n",
       "    <tr>\n",
       "      <th>0</th>\n",
       "      <td>192</td>\n",
       "      <td>100-200</td>\n",
       "      <td>22</td>\n",
       "      <td>0.78</td>\n",
       "      <td>70%-80%</td>\n",
       "      <td>4</td>\n",
       "      <td>12.4</td>\n",
       "      <td>12.4 km</td>\n",
       "      <td>Public</td>\n",
       "      <td>Urban</td>\n",
       "      <td>Yes</td>\n",
       "      <td>Yes</td>\n",
       "      <td>High</td>\n",
       "      <td>Medium</td>\n",
       "      <td>17</td>\n",
       "      <td>Male</td>\n",
       "      <td>Low</td>\n",
       "      <td>Tertiary</td>\n",
       "    </tr>\n",
       "    <tr>\n",
       "      <th>1</th>\n",
       "      <td>207</td>\n",
       "      <td>200-300</td>\n",
       "      <td>14</td>\n",
       "      <td>0.88</td>\n",
       "      <td>80%-90%</td>\n",
       "      <td>4</td>\n",
       "      <td>2.7</td>\n",
       "      <td>2.7 km</td>\n",
       "      <td>Public</td>\n",
       "      <td>Rural</td>\n",
       "      <td>No</td>\n",
       "      <td>Yes</td>\n",
       "      <td>High</td>\n",
       "      <td>High</td>\n",
       "      <td>15</td>\n",
       "      <td>Male</td>\n",
       "      <td>High</td>\n",
       "      <td>NaN</td>\n",
       "    </tr>\n",
       "    <tr>\n",
       "      <th>2</th>\n",
       "      <td>182</td>\n",
       "      <td>100-200</td>\n",
       "      <td>29</td>\n",
       "      <td>0.87</td>\n",
       "      <td>80%-90%</td>\n",
       "      <td>2</td>\n",
       "      <td>9.6</td>\n",
       "      <td>9.6 km</td>\n",
       "      <td>Public</td>\n",
       "      <td>Rural</td>\n",
       "      <td>Yes</td>\n",
       "      <td>Yes</td>\n",
       "      <td>High</td>\n",
       "      <td>Medium</td>\n",
       "      <td>20</td>\n",
       "      <td>Female</td>\n",
       "      <td>High</td>\n",
       "      <td>Tertiary</td>\n",
       "    </tr>\n",
       "    <tr>\n",
       "      <th>3</th>\n",
       "      <td>210</td>\n",
       "      <td>200-300</td>\n",
       "      <td>29</td>\n",
       "      <td>0.99</td>\n",
       "      <td>90%-100%</td>\n",
       "      <td>2</td>\n",
       "      <td>2.6</td>\n",
       "      <td>2.6 km</td>\n",
       "      <td>Public</td>\n",
       "      <td>Urban</td>\n",
       "      <td>No</td>\n",
       "      <td>Yes</td>\n",
       "      <td>Medium</td>\n",
       "      <td>High</td>\n",
       "      <td>22</td>\n",
       "      <td>Female</td>\n",
       "      <td>Medium</td>\n",
       "      <td>Tertiary</td>\n",
       "    </tr>\n",
       "    <tr>\n",
       "      <th>4</th>\n",
       "      <td>199</td>\n",
       "      <td>100-200</td>\n",
       "      <td>12</td>\n",
       "      <td>0.98</td>\n",
       "      <td>90%-100%</td>\n",
       "      <td>3</td>\n",
       "      <td>8.8</td>\n",
       "      <td>8.8 km</td>\n",
       "      <td>Public</td>\n",
       "      <td>Urban</td>\n",
       "      <td>No</td>\n",
       "      <td>Yes</td>\n",
       "      <td>Medium</td>\n",
       "      <td>Medium</td>\n",
       "      <td>22</td>\n",
       "      <td>Female</td>\n",
       "      <td>Medium</td>\n",
       "      <td>Tertiary</td>\n",
       "    </tr>\n",
       "    <tr>\n",
       "      <th>...</th>\n",
       "      <td>...</td>\n",
       "      <td>...</td>\n",
       "      <td>...</td>\n",
       "      <td>...</td>\n",
       "      <td>...</td>\n",
       "      <td>...</td>\n",
       "      <td>...</td>\n",
       "      <td>...</td>\n",
       "      <td>...</td>\n",
       "      <td>...</td>\n",
       "      <td>...</td>\n",
       "      <td>...</td>\n",
       "      <td>...</td>\n",
       "      <td>...</td>\n",
       "      <td>...</td>\n",
       "      <td>...</td>\n",
       "      <td>...</td>\n",
       "      <td>...</td>\n",
       "    </tr>\n",
       "    <tr>\n",
       "      <th>4995</th>\n",
       "      <td>183</td>\n",
       "      <td>100-200</td>\n",
       "      <td>20</td>\n",
       "      <td>0.74</td>\n",
       "      <td>70%-80%</td>\n",
       "      <td>2</td>\n",
       "      <td>10.6</td>\n",
       "      <td>10.6 km</td>\n",
       "      <td>Public</td>\n",
       "      <td>Urban</td>\n",
       "      <td>Yes</td>\n",
       "      <td>No</td>\n",
       "      <td>Low</td>\n",
       "      <td>Low</td>\n",
       "      <td>16</td>\n",
       "      <td>Male</td>\n",
       "      <td>Medium</td>\n",
       "      <td>Primary</td>\n",
       "    </tr>\n",
       "    <tr>\n",
       "      <th>4996</th>\n",
       "      <td>179</td>\n",
       "      <td>100-200</td>\n",
       "      <td>0</td>\n",
       "      <td>0.80</td>\n",
       "      <td>70%-80%</td>\n",
       "      <td>2</td>\n",
       "      <td>20.0</td>\n",
       "      <td>20 km</td>\n",
       "      <td>Public</td>\n",
       "      <td>Rural</td>\n",
       "      <td>No</td>\n",
       "      <td>Yes</td>\n",
       "      <td>Medium</td>\n",
       "      <td>Medium</td>\n",
       "      <td>22</td>\n",
       "      <td>Male</td>\n",
       "      <td>Low</td>\n",
       "      <td>Secondary</td>\n",
       "    </tr>\n",
       "    <tr>\n",
       "      <th>4997</th>\n",
       "      <td>261</td>\n",
       "      <td>200-300</td>\n",
       "      <td>17</td>\n",
       "      <td>0.89</td>\n",
       "      <td>80%-90%</td>\n",
       "      <td>3</td>\n",
       "      <td>11.3</td>\n",
       "      <td>11.3 km</td>\n",
       "      <td>Public</td>\n",
       "      <td>Urban</td>\n",
       "      <td>No</td>\n",
       "      <td>No</td>\n",
       "      <td>Low</td>\n",
       "      <td>High</td>\n",
       "      <td>18</td>\n",
       "      <td>Male</td>\n",
       "      <td>Medium</td>\n",
       "      <td>Primary</td>\n",
       "    </tr>\n",
       "    <tr>\n",
       "      <th>4998</th>\n",
       "      <td>183</td>\n",
       "      <td>100-200</td>\n",
       "      <td>15</td>\n",
       "      <td>0.96</td>\n",
       "      <td>90%-100%</td>\n",
       "      <td>2</td>\n",
       "      <td>15.9</td>\n",
       "      <td>15.9 km</td>\n",
       "      <td>Public</td>\n",
       "      <td>Rural</td>\n",
       "      <td>No</td>\n",
       "      <td>No</td>\n",
       "      <td>Low</td>\n",
       "      <td>Medium</td>\n",
       "      <td>18</td>\n",
       "      <td>Male</td>\n",
       "      <td>Medium</td>\n",
       "      <td>Secondary</td>\n",
       "    </tr>\n",
       "    <tr>\n",
       "      <th>4999</th>\n",
       "      <td>218</td>\n",
       "      <td>200-300</td>\n",
       "      <td>34</td>\n",
       "      <td>1.00</td>\n",
       "      <td>90%-100%</td>\n",
       "      <td>1</td>\n",
       "      <td>7.0</td>\n",
       "      <td>7 km</td>\n",
       "      <td>Public</td>\n",
       "      <td>Urban</td>\n",
       "      <td>Yes</td>\n",
       "      <td>Yes</td>\n",
       "      <td>Medium</td>\n",
       "      <td>Medium</td>\n",
       "      <td>16</td>\n",
       "      <td>Female</td>\n",
       "      <td>High</td>\n",
       "      <td>NaN</td>\n",
       "    </tr>\n",
       "  </tbody>\n",
       "</table>\n",
       "<p>5000 rows × 18 columns</p>\n",
       "</div>"
      ],
      "text/plain": [
       "      JAMB_Score Score_Bracket  Study_Hours_Per_Week  Attendance_Rate  \\\n",
       "0            192       100-200                    22             0.78   \n",
       "1            207       200-300                    14             0.88   \n",
       "2            182       100-200                    29             0.87   \n",
       "3            210       200-300                    29             0.99   \n",
       "4            199       100-200                    12             0.98   \n",
       "...          ...           ...                   ...              ...   \n",
       "4995         183       100-200                    20             0.74   \n",
       "4996         179       100-200                     0             0.80   \n",
       "4997         261       200-300                    17             0.89   \n",
       "4998         183       100-200                    15             0.96   \n",
       "4999         218       200-300                    34             1.00   \n",
       "\n",
       "     Attendance_Rate_Bracket  Teacher_Quality  Distance_To_School  \\\n",
       "0                    70%-80%                4                12.4   \n",
       "1                    80%-90%                4                 2.7   \n",
       "2                    80%-90%                2                 9.6   \n",
       "3                   90%-100%                2                 2.6   \n",
       "4                   90%-100%                3                 8.8   \n",
       "...                      ...              ...                 ...   \n",
       "4995                 70%-80%                2                10.6   \n",
       "4996                 70%-80%                2                20.0   \n",
       "4997                 80%-90%                3                11.3   \n",
       "4998                90%-100%                2                15.9   \n",
       "4999                90%-100%                1                 7.0   \n",
       "\n",
       "     Distance_To_School.1 School_Type School_Location Extra_Tutorials  \\\n",
       "0                 12.4 km      Public           Urban             Yes   \n",
       "1                  2.7 km      Public           Rural              No   \n",
       "2                  9.6 km      Public           Rural             Yes   \n",
       "3                  2.6 km      Public           Urban              No   \n",
       "4                  8.8 km      Public           Urban              No   \n",
       "...                   ...         ...             ...             ...   \n",
       "4995              10.6 km      Public           Urban             Yes   \n",
       "4996                20 km      Public           Rural              No   \n",
       "4997              11.3 km      Public           Urban              No   \n",
       "4998              15.9 km      Public           Rural              No   \n",
       "4999                 7 km      Public           Urban             Yes   \n",
       "\n",
       "     Access_To_Learning_Materials Parent_Involvement IT_Knowledge  Age  \\\n",
       "0                             Yes               High       Medium   17   \n",
       "1                             Yes               High         High   15   \n",
       "2                             Yes               High       Medium   20   \n",
       "3                             Yes             Medium         High   22   \n",
       "4                             Yes             Medium       Medium   22   \n",
       "...                           ...                ...          ...  ...   \n",
       "4995                           No                Low          Low   16   \n",
       "4996                          Yes             Medium       Medium   22   \n",
       "4997                           No                Low         High   18   \n",
       "4998                           No                Low       Medium   18   \n",
       "4999                          Yes             Medium       Medium   16   \n",
       "\n",
       "      Gender Socioeconomic_Status Parent_Education_Level  \n",
       "0       Male                  Low               Tertiary  \n",
       "1       Male                 High                    NaN  \n",
       "2     Female                 High               Tertiary  \n",
       "3     Female               Medium               Tertiary  \n",
       "4     Female               Medium               Tertiary  \n",
       "...      ...                  ...                    ...  \n",
       "4995    Male               Medium                Primary  \n",
       "4996    Male                  Low              Secondary  \n",
       "4997    Male               Medium                Primary  \n",
       "4998    Male               Medium              Secondary  \n",
       "4999  Female                 High                    NaN  \n",
       "\n",
       "[5000 rows x 18 columns]"
      ]
     },
     "execution_count": 4,
     "metadata": {},
     "output_type": "execute_result"
    }
   ],
   "source": [
    "data"
   ]
  },
  {
   "cell_type": "markdown",
   "id": "0c42f34e-463b-4f68-a756-2c85b420b601",
   "metadata": {},
   "source": [
    "#### Dataset Properties"
   ]
  },
  {
   "cell_type": "code",
   "execution_count": 5,
   "id": "c012998d-c758-4dd3-8b6c-a5fa76c03020",
   "metadata": {},
   "outputs": [
    {
     "name": "stdout",
     "output_type": "stream",
     "text": [
      "<class 'pandas.core.frame.DataFrame'>\n",
      "RangeIndex: 5000 entries, 0 to 4999\n",
      "Data columns (total 18 columns):\n",
      " #   Column                        Non-Null Count  Dtype  \n",
      "---  ------                        --------------  -----  \n",
      " 0   JAMB_Score                    5000 non-null   int64  \n",
      " 1   Score_Bracket                 5000 non-null   object \n",
      " 2   Study_Hours_Per_Week          5000 non-null   int64  \n",
      " 3   Attendance_Rate               5000 non-null   float64\n",
      " 4   Attendance_Rate_Bracket       5000 non-null   object \n",
      " 5   Teacher_Quality               5000 non-null   int64  \n",
      " 6   Distance_To_School            5000 non-null   float64\n",
      " 7   Distance_To_School.1          5000 non-null   object \n",
      " 8   School_Type                   5000 non-null   object \n",
      " 9   School_Location               5000 non-null   object \n",
      " 10  Extra_Tutorials               5000 non-null   object \n",
      " 11  Access_To_Learning_Materials  5000 non-null   object \n",
      " 12  Parent_Involvement            5000 non-null   object \n",
      " 13  IT_Knowledge                  5000 non-null   object \n",
      " 14  Age                           5000 non-null   int64  \n",
      " 15  Gender                        5000 non-null   object \n",
      " 16  Socioeconomic_Status          5000 non-null   object \n",
      " 17  Parent_Education_Level        4109 non-null   object \n",
      "dtypes: float64(2), int64(4), object(12)\n",
      "memory usage: 703.3+ KB\n"
     ]
    }
   ],
   "source": [
    "data.info()"
   ]
  },
  {
   "cell_type": "code",
   "execution_count": 6,
   "id": "beb659a6-fea2-4df2-962f-c31e1c83b0fb",
   "metadata": {},
   "outputs": [
    {
     "data": {
      "text/html": [
       "<div>\n",
       "<style scoped>\n",
       "    .dataframe tbody tr th:only-of-type {\n",
       "        vertical-align: middle;\n",
       "    }\n",
       "\n",
       "    .dataframe tbody tr th {\n",
       "        vertical-align: top;\n",
       "    }\n",
       "\n",
       "    .dataframe thead th {\n",
       "        text-align: right;\n",
       "    }\n",
       "</style>\n",
       "<table border=\"1\" class=\"dataframe\">\n",
       "  <thead>\n",
       "    <tr style=\"text-align: right;\">\n",
       "      <th></th>\n",
       "      <th>JAMB_Score</th>\n",
       "      <th>Study_Hours_Per_Week</th>\n",
       "      <th>Attendance_Rate</th>\n",
       "      <th>Teacher_Quality</th>\n",
       "      <th>Distance_To_School</th>\n",
       "      <th>Age</th>\n",
       "    </tr>\n",
       "  </thead>\n",
       "  <tbody>\n",
       "    <tr>\n",
       "      <th>count</th>\n",
       "      <td>5000.000000</td>\n",
       "      <td>5000.000000</td>\n",
       "      <td>5000.000000</td>\n",
       "      <td>5000.000000</td>\n",
       "      <td>5000.000000</td>\n",
       "      <td>5000.000000</td>\n",
       "    </tr>\n",
       "    <tr>\n",
       "      <th>mean</th>\n",
       "      <td>174.074600</td>\n",
       "      <td>19.521200</td>\n",
       "      <td>0.842352</td>\n",
       "      <td>2.521400</td>\n",
       "      <td>10.005460</td>\n",
       "      <td>18.445800</td>\n",
       "    </tr>\n",
       "    <tr>\n",
       "      <th>std</th>\n",
       "      <td>47.616477</td>\n",
       "      <td>9.634569</td>\n",
       "      <td>0.094857</td>\n",
       "      <td>0.985564</td>\n",
       "      <td>4.820221</td>\n",
       "      <td>2.301504</td>\n",
       "    </tr>\n",
       "    <tr>\n",
       "      <th>min</th>\n",
       "      <td>100.000000</td>\n",
       "      <td>0.000000</td>\n",
       "      <td>0.500000</td>\n",
       "      <td>1.000000</td>\n",
       "      <td>0.000000</td>\n",
       "      <td>15.000000</td>\n",
       "    </tr>\n",
       "    <tr>\n",
       "      <th>25%</th>\n",
       "      <td>135.000000</td>\n",
       "      <td>13.000000</td>\n",
       "      <td>0.780000</td>\n",
       "      <td>2.000000</td>\n",
       "      <td>6.600000</td>\n",
       "      <td>16.000000</td>\n",
       "    </tr>\n",
       "    <tr>\n",
       "      <th>50%</th>\n",
       "      <td>170.000000</td>\n",
       "      <td>19.000000</td>\n",
       "      <td>0.840000</td>\n",
       "      <td>2.000000</td>\n",
       "      <td>10.000000</td>\n",
       "      <td>18.000000</td>\n",
       "    </tr>\n",
       "    <tr>\n",
       "      <th>75%</th>\n",
       "      <td>209.000000</td>\n",
       "      <td>26.000000</td>\n",
       "      <td>0.910000</td>\n",
       "      <td>3.000000</td>\n",
       "      <td>13.400000</td>\n",
       "      <td>20.000000</td>\n",
       "    </tr>\n",
       "    <tr>\n",
       "      <th>max</th>\n",
       "      <td>367.000000</td>\n",
       "      <td>40.000000</td>\n",
       "      <td>1.000000</td>\n",
       "      <td>5.000000</td>\n",
       "      <td>20.000000</td>\n",
       "      <td>22.000000</td>\n",
       "    </tr>\n",
       "  </tbody>\n",
       "</table>\n",
       "</div>"
      ],
      "text/plain": [
       "        JAMB_Score  Study_Hours_Per_Week  Attendance_Rate  Teacher_Quality  \\\n",
       "count  5000.000000           5000.000000      5000.000000      5000.000000   \n",
       "mean    174.074600             19.521200         0.842352         2.521400   \n",
       "std      47.616477              9.634569         0.094857         0.985564   \n",
       "min     100.000000              0.000000         0.500000         1.000000   \n",
       "25%     135.000000             13.000000         0.780000         2.000000   \n",
       "50%     170.000000             19.000000         0.840000         2.000000   \n",
       "75%     209.000000             26.000000         0.910000         3.000000   \n",
       "max     367.000000             40.000000         1.000000         5.000000   \n",
       "\n",
       "       Distance_To_School          Age  \n",
       "count         5000.000000  5000.000000  \n",
       "mean            10.005460    18.445800  \n",
       "std              4.820221     2.301504  \n",
       "min              0.000000    15.000000  \n",
       "25%              6.600000    16.000000  \n",
       "50%             10.000000    18.000000  \n",
       "75%             13.400000    20.000000  \n",
       "max             20.000000    22.000000  "
      ]
     },
     "execution_count": 6,
     "metadata": {},
     "output_type": "execute_result"
    }
   ],
   "source": [
    "data.describe()"
   ]
  },
  {
   "cell_type": "code",
   "execution_count": 7,
   "id": "e619bd64-8543-4cd0-9b68-0913c52e69b1",
   "metadata": {},
   "outputs": [
    {
     "data": {
      "text/plain": [
       "(5000, 18)"
      ]
     },
     "execution_count": 7,
     "metadata": {},
     "output_type": "execute_result"
    }
   ],
   "source": [
    "data.shape"
   ]
  },
  {
   "cell_type": "code",
   "execution_count": 8,
   "id": "67875a39-e030-43a4-b23b-75b926526777",
   "metadata": {},
   "outputs": [
    {
     "data": {
      "text/plain": [
       "JAMB_Score                        0\n",
       "Score_Bracket                     0\n",
       "Study_Hours_Per_Week              0\n",
       "Attendance_Rate                   0\n",
       "Attendance_Rate_Bracket           0\n",
       "Teacher_Quality                   0\n",
       "Distance_To_School                0\n",
       "Distance_To_School.1              0\n",
       "School_Type                       0\n",
       "School_Location                   0\n",
       "Extra_Tutorials                   0\n",
       "Access_To_Learning_Materials      0\n",
       "Parent_Involvement                0\n",
       "IT_Knowledge                      0\n",
       "Age                               0\n",
       "Gender                            0\n",
       "Socioeconomic_Status              0\n",
       "Parent_Education_Level          891\n",
       "dtype: int64"
      ]
     },
     "execution_count": 8,
     "metadata": {},
     "output_type": "execute_result"
    }
   ],
   "source": [
    "data.isnull().sum()"
   ]
  },
  {
   "cell_type": "code",
   "execution_count": 9,
   "id": "b63c2c7e-ea9b-44a8-bbb3-6c72712f6db6",
   "metadata": {},
   "outputs": [
    {
     "data": {
      "text/plain": [
       "JAMB_Score                        int64\n",
       "Score_Bracket                    object\n",
       "Study_Hours_Per_Week              int64\n",
       "Attendance_Rate                 float64\n",
       "Attendance_Rate_Bracket          object\n",
       "Teacher_Quality                   int64\n",
       "Distance_To_School              float64\n",
       "Distance_To_School.1             object\n",
       "School_Type                      object\n",
       "School_Location                  object\n",
       "Extra_Tutorials                  object\n",
       "Access_To_Learning_Materials     object\n",
       "Parent_Involvement               object\n",
       "IT_Knowledge                     object\n",
       "Age                               int64\n",
       "Gender                           object\n",
       "Socioeconomic_Status             object\n",
       "Parent_Education_Level           object\n",
       "dtype: object"
      ]
     },
     "execution_count": 9,
     "metadata": {},
     "output_type": "execute_result"
    }
   ],
   "source": [
    "data.dtypes"
   ]
  },
  {
   "cell_type": "markdown",
   "id": "9b20a12a-3046-4a0b-b22b-c4b1647ddde2",
   "metadata": {},
   "source": [
    "### 1) What was the Highest JAMB score in 2024?"
   ]
  },
  {
   "cell_type": "code",
   "execution_count": 10,
   "id": "80351331-8471-4512-97a0-cf89b8ab6399",
   "metadata": {
    "scrolled": true
   },
   "outputs": [
    {
     "data": {
      "text/html": [
       "<div>\n",
       "<style scoped>\n",
       "    .dataframe tbody tr th:only-of-type {\n",
       "        vertical-align: middle;\n",
       "    }\n",
       "\n",
       "    .dataframe tbody tr th {\n",
       "        vertical-align: top;\n",
       "    }\n",
       "\n",
       "    .dataframe thead th {\n",
       "        text-align: right;\n",
       "    }\n",
       "</style>\n",
       "<table border=\"1\" class=\"dataframe\">\n",
       "  <thead>\n",
       "    <tr style=\"text-align: right;\">\n",
       "      <th></th>\n",
       "      <th>JAMB_Score</th>\n",
       "      <th>Score_Bracket</th>\n",
       "      <th>Study_Hours_Per_Week</th>\n",
       "      <th>Attendance_Rate</th>\n",
       "      <th>Attendance_Rate_Bracket</th>\n",
       "      <th>Teacher_Quality</th>\n",
       "      <th>Distance_To_School</th>\n",
       "      <th>Distance_To_School.1</th>\n",
       "      <th>School_Type</th>\n",
       "      <th>School_Location</th>\n",
       "      <th>Extra_Tutorials</th>\n",
       "      <th>Access_To_Learning_Materials</th>\n",
       "      <th>Parent_Involvement</th>\n",
       "      <th>IT_Knowledge</th>\n",
       "      <th>Age</th>\n",
       "      <th>Gender</th>\n",
       "      <th>Socioeconomic_Status</th>\n",
       "      <th>Parent_Education_Level</th>\n",
       "    </tr>\n",
       "  </thead>\n",
       "  <tbody>\n",
       "    <tr>\n",
       "      <th>0</th>\n",
       "      <td>192</td>\n",
       "      <td>100-200</td>\n",
       "      <td>22</td>\n",
       "      <td>0.78</td>\n",
       "      <td>70%-80%</td>\n",
       "      <td>4</td>\n",
       "      <td>12.4</td>\n",
       "      <td>12.4 km</td>\n",
       "      <td>Public</td>\n",
       "      <td>Urban</td>\n",
       "      <td>Yes</td>\n",
       "      <td>Yes</td>\n",
       "      <td>High</td>\n",
       "      <td>Medium</td>\n",
       "      <td>17</td>\n",
       "      <td>Male</td>\n",
       "      <td>Low</td>\n",
       "      <td>Tertiary</td>\n",
       "    </tr>\n",
       "  </tbody>\n",
       "</table>\n",
       "</div>"
      ],
      "text/plain": [
       "   JAMB_Score Score_Bracket  Study_Hours_Per_Week  Attendance_Rate  \\\n",
       "0         192       100-200                    22             0.78   \n",
       "\n",
       "  Attendance_Rate_Bracket  Teacher_Quality  Distance_To_School  \\\n",
       "0                 70%-80%                4                12.4   \n",
       "\n",
       "  Distance_To_School.1 School_Type School_Location Extra_Tutorials  \\\n",
       "0              12.4 km      Public           Urban             Yes   \n",
       "\n",
       "  Access_To_Learning_Materials Parent_Involvement IT_Knowledge  Age Gender  \\\n",
       "0                          Yes               High       Medium   17   Male   \n",
       "\n",
       "  Socioeconomic_Status Parent_Education_Level  \n",
       "0                  Low               Tertiary  "
      ]
     },
     "execution_count": 10,
     "metadata": {},
     "output_type": "execute_result"
    }
   ],
   "source": [
    "data.head(1)"
   ]
  },
  {
   "cell_type": "code",
   "execution_count": 11,
   "id": "3adfb400-e79f-484c-a731-5b77f3e258a3",
   "metadata": {},
   "outputs": [
    {
     "data": {
      "text/plain": [
       "367"
      ]
     },
     "execution_count": 11,
     "metadata": {},
     "output_type": "execute_result"
    }
   ],
   "source": [
    "h_jamb = data['JAMB_Score'].max()\n",
    "h_jamb"
   ]
  },
  {
   "cell_type": "code",
   "execution_count": 12,
   "id": "d7907483-f0f9-4e2b-87f1-ab75cadcb475",
   "metadata": {},
   "outputs": [
    {
     "name": "stdout",
     "output_type": "stream",
     "text": [
      "The highest JAMB score in 2024 was: 367\n"
     ]
    }
   ],
   "source": [
    "print('The highest JAMB score in 2024 was:',h_jamb)"
   ]
  },
  {
   "cell_type": "markdown",
   "id": "9b4cef3e-9518-40e8-9244-5113815c442e",
   "metadata": {},
   "source": []
  },
  {
   "cell_type": "markdown",
   "id": "16965688-cc73-4986-86b2-fbad91ebad07",
   "metadata": {},
   "source": [
    "### 2) What was the Lowest JAMB score in 2024?"
   ]
  },
  {
   "cell_type": "code",
   "execution_count": 13,
   "id": "186a83fc-4977-4584-bce8-af336ca8397d",
   "metadata": {},
   "outputs": [
    {
     "data": {
      "text/html": [
       "<div>\n",
       "<style scoped>\n",
       "    .dataframe tbody tr th:only-of-type {\n",
       "        vertical-align: middle;\n",
       "    }\n",
       "\n",
       "    .dataframe tbody tr th {\n",
       "        vertical-align: top;\n",
       "    }\n",
       "\n",
       "    .dataframe thead th {\n",
       "        text-align: right;\n",
       "    }\n",
       "</style>\n",
       "<table border=\"1\" class=\"dataframe\">\n",
       "  <thead>\n",
       "    <tr style=\"text-align: right;\">\n",
       "      <th></th>\n",
       "      <th>JAMB_Score</th>\n",
       "      <th>Score_Bracket</th>\n",
       "      <th>Study_Hours_Per_Week</th>\n",
       "      <th>Attendance_Rate</th>\n",
       "      <th>Attendance_Rate_Bracket</th>\n",
       "      <th>Teacher_Quality</th>\n",
       "      <th>Distance_To_School</th>\n",
       "      <th>Distance_To_School.1</th>\n",
       "      <th>School_Type</th>\n",
       "      <th>School_Location</th>\n",
       "      <th>Extra_Tutorials</th>\n",
       "      <th>Access_To_Learning_Materials</th>\n",
       "      <th>Parent_Involvement</th>\n",
       "      <th>IT_Knowledge</th>\n",
       "      <th>Age</th>\n",
       "      <th>Gender</th>\n",
       "      <th>Socioeconomic_Status</th>\n",
       "      <th>Parent_Education_Level</th>\n",
       "    </tr>\n",
       "  </thead>\n",
       "  <tbody>\n",
       "    <tr>\n",
       "      <th>0</th>\n",
       "      <td>192</td>\n",
       "      <td>100-200</td>\n",
       "      <td>22</td>\n",
       "      <td>0.78</td>\n",
       "      <td>70%-80%</td>\n",
       "      <td>4</td>\n",
       "      <td>12.4</td>\n",
       "      <td>12.4 km</td>\n",
       "      <td>Public</td>\n",
       "      <td>Urban</td>\n",
       "      <td>Yes</td>\n",
       "      <td>Yes</td>\n",
       "      <td>High</td>\n",
       "      <td>Medium</td>\n",
       "      <td>17</td>\n",
       "      <td>Male</td>\n",
       "      <td>Low</td>\n",
       "      <td>Tertiary</td>\n",
       "    </tr>\n",
       "  </tbody>\n",
       "</table>\n",
       "</div>"
      ],
      "text/plain": [
       "   JAMB_Score Score_Bracket  Study_Hours_Per_Week  Attendance_Rate  \\\n",
       "0         192       100-200                    22             0.78   \n",
       "\n",
       "  Attendance_Rate_Bracket  Teacher_Quality  Distance_To_School  \\\n",
       "0                 70%-80%                4                12.4   \n",
       "\n",
       "  Distance_To_School.1 School_Type School_Location Extra_Tutorials  \\\n",
       "0              12.4 km      Public           Urban             Yes   \n",
       "\n",
       "  Access_To_Learning_Materials Parent_Involvement IT_Knowledge  Age Gender  \\\n",
       "0                          Yes               High       Medium   17   Male   \n",
       "\n",
       "  Socioeconomic_Status Parent_Education_Level  \n",
       "0                  Low               Tertiary  "
      ]
     },
     "execution_count": 13,
     "metadata": {},
     "output_type": "execute_result"
    }
   ],
   "source": [
    "data.head(1)"
   ]
  },
  {
   "cell_type": "code",
   "execution_count": 14,
   "id": "37b4f8a4-caf2-465d-b741-b14e2e829654",
   "metadata": {},
   "outputs": [
    {
     "data": {
      "text/plain": [
       "100"
      ]
     },
     "execution_count": 14,
     "metadata": {},
     "output_type": "execute_result"
    }
   ],
   "source": [
    "l_jamb = data['JAMB_Score'].min()\n",
    "l_jamb"
   ]
  },
  {
   "cell_type": "code",
   "execution_count": 15,
   "id": "28197b99-e9bd-4344-b3c1-f54134779316",
   "metadata": {},
   "outputs": [
    {
     "name": "stdout",
     "output_type": "stream",
     "text": [
      "The lowest JAMB score in 2024 was: 100\n"
     ]
    }
   ],
   "source": [
    "print('The lowest JAMB score in 2024 was:',l_jamb)"
   ]
  },
  {
   "cell_type": "markdown",
   "id": "11b38365-1bd8-48a0-8502-b3ac7d3876ec",
   "metadata": {},
   "source": []
  },
  {
   "cell_type": "markdown",
   "id": "eb0d1b9d-f4ad-4f42-a638-4ceea948c8c3",
   "metadata": {},
   "source": [
    "### 3) What was the average JAMB score in 2024?"
   ]
  },
  {
   "cell_type": "code",
   "execution_count": 16,
   "id": "bbd85fd2-b944-4c6f-8c3c-4b7529439dd8",
   "metadata": {},
   "outputs": [
    {
     "data": {
      "text/html": [
       "<div>\n",
       "<style scoped>\n",
       "    .dataframe tbody tr th:only-of-type {\n",
       "        vertical-align: middle;\n",
       "    }\n",
       "\n",
       "    .dataframe tbody tr th {\n",
       "        vertical-align: top;\n",
       "    }\n",
       "\n",
       "    .dataframe thead th {\n",
       "        text-align: right;\n",
       "    }\n",
       "</style>\n",
       "<table border=\"1\" class=\"dataframe\">\n",
       "  <thead>\n",
       "    <tr style=\"text-align: right;\">\n",
       "      <th></th>\n",
       "      <th>JAMB_Score</th>\n",
       "      <th>Score_Bracket</th>\n",
       "      <th>Study_Hours_Per_Week</th>\n",
       "      <th>Attendance_Rate</th>\n",
       "      <th>Attendance_Rate_Bracket</th>\n",
       "      <th>Teacher_Quality</th>\n",
       "      <th>Distance_To_School</th>\n",
       "      <th>Distance_To_School.1</th>\n",
       "      <th>School_Type</th>\n",
       "      <th>School_Location</th>\n",
       "      <th>Extra_Tutorials</th>\n",
       "      <th>Access_To_Learning_Materials</th>\n",
       "      <th>Parent_Involvement</th>\n",
       "      <th>IT_Knowledge</th>\n",
       "      <th>Age</th>\n",
       "      <th>Gender</th>\n",
       "      <th>Socioeconomic_Status</th>\n",
       "      <th>Parent_Education_Level</th>\n",
       "    </tr>\n",
       "  </thead>\n",
       "  <tbody>\n",
       "    <tr>\n",
       "      <th>0</th>\n",
       "      <td>192</td>\n",
       "      <td>100-200</td>\n",
       "      <td>22</td>\n",
       "      <td>0.78</td>\n",
       "      <td>70%-80%</td>\n",
       "      <td>4</td>\n",
       "      <td>12.4</td>\n",
       "      <td>12.4 km</td>\n",
       "      <td>Public</td>\n",
       "      <td>Urban</td>\n",
       "      <td>Yes</td>\n",
       "      <td>Yes</td>\n",
       "      <td>High</td>\n",
       "      <td>Medium</td>\n",
       "      <td>17</td>\n",
       "      <td>Male</td>\n",
       "      <td>Low</td>\n",
       "      <td>Tertiary</td>\n",
       "    </tr>\n",
       "  </tbody>\n",
       "</table>\n",
       "</div>"
      ],
      "text/plain": [
       "   JAMB_Score Score_Bracket  Study_Hours_Per_Week  Attendance_Rate  \\\n",
       "0         192       100-200                    22             0.78   \n",
       "\n",
       "  Attendance_Rate_Bracket  Teacher_Quality  Distance_To_School  \\\n",
       "0                 70%-80%                4                12.4   \n",
       "\n",
       "  Distance_To_School.1 School_Type School_Location Extra_Tutorials  \\\n",
       "0              12.4 km      Public           Urban             Yes   \n",
       "\n",
       "  Access_To_Learning_Materials Parent_Involvement IT_Knowledge  Age Gender  \\\n",
       "0                          Yes               High       Medium   17   Male   \n",
       "\n",
       "  Socioeconomic_Status Parent_Education_Level  \n",
       "0                  Low               Tertiary  "
      ]
     },
     "execution_count": 16,
     "metadata": {},
     "output_type": "execute_result"
    }
   ],
   "source": [
    "data.head(1)"
   ]
  },
  {
   "cell_type": "code",
   "execution_count": 17,
   "id": "5613b451-e0c2-45ba-8ffe-1b47200935b7",
   "metadata": {},
   "outputs": [
    {
     "data": {
      "text/plain": [
       "174"
      ]
     },
     "execution_count": 17,
     "metadata": {},
     "output_type": "execute_result"
    }
   ],
   "source": [
    "avg_jamb = data['JAMB_Score'].mean()\n",
    "avg_jamb = round(avg_jamb)\n",
    "avg_jamb"
   ]
  },
  {
   "cell_type": "code",
   "execution_count": 18,
   "id": "df7a03d0-00dd-46d7-8f48-d8abbec79632",
   "metadata": {},
   "outputs": [
    {
     "name": "stdout",
     "output_type": "stream",
     "text": [
      "The average JAMB score in 2024 was: 174\n"
     ]
    }
   ],
   "source": [
    "print('The average JAMB score in 2024 was:',avg_jamb)"
   ]
  },
  {
   "cell_type": "code",
   "execution_count": null,
   "id": "e0b5f7b9-62b6-4495-a7d3-c50d75e75a3c",
   "metadata": {},
   "outputs": [],
   "source": []
  },
  {
   "cell_type": "markdown",
   "id": "4bc28f8b-4468-4e45-96e7-156a49da115f",
   "metadata": {},
   "source": [
    "### 4) What was the average class attendace rate of students?"
   ]
  },
  {
   "cell_type": "code",
   "execution_count": 19,
   "id": "e5073815-ee1f-4a31-96cb-4c5fecdde08b",
   "metadata": {},
   "outputs": [
    {
     "data": {
      "text/html": [
       "<div>\n",
       "<style scoped>\n",
       "    .dataframe tbody tr th:only-of-type {\n",
       "        vertical-align: middle;\n",
       "    }\n",
       "\n",
       "    .dataframe tbody tr th {\n",
       "        vertical-align: top;\n",
       "    }\n",
       "\n",
       "    .dataframe thead th {\n",
       "        text-align: right;\n",
       "    }\n",
       "</style>\n",
       "<table border=\"1\" class=\"dataframe\">\n",
       "  <thead>\n",
       "    <tr style=\"text-align: right;\">\n",
       "      <th></th>\n",
       "      <th>JAMB_Score</th>\n",
       "      <th>Score_Bracket</th>\n",
       "      <th>Study_Hours_Per_Week</th>\n",
       "      <th>Attendance_Rate</th>\n",
       "      <th>Attendance_Rate_Bracket</th>\n",
       "      <th>Teacher_Quality</th>\n",
       "      <th>Distance_To_School</th>\n",
       "      <th>Distance_To_School.1</th>\n",
       "      <th>School_Type</th>\n",
       "      <th>School_Location</th>\n",
       "      <th>Extra_Tutorials</th>\n",
       "      <th>Access_To_Learning_Materials</th>\n",
       "      <th>Parent_Involvement</th>\n",
       "      <th>IT_Knowledge</th>\n",
       "      <th>Age</th>\n",
       "      <th>Gender</th>\n",
       "      <th>Socioeconomic_Status</th>\n",
       "      <th>Parent_Education_Level</th>\n",
       "    </tr>\n",
       "  </thead>\n",
       "  <tbody>\n",
       "    <tr>\n",
       "      <th>0</th>\n",
       "      <td>192</td>\n",
       "      <td>100-200</td>\n",
       "      <td>22</td>\n",
       "      <td>0.78</td>\n",
       "      <td>70%-80%</td>\n",
       "      <td>4</td>\n",
       "      <td>12.4</td>\n",
       "      <td>12.4 km</td>\n",
       "      <td>Public</td>\n",
       "      <td>Urban</td>\n",
       "      <td>Yes</td>\n",
       "      <td>Yes</td>\n",
       "      <td>High</td>\n",
       "      <td>Medium</td>\n",
       "      <td>17</td>\n",
       "      <td>Male</td>\n",
       "      <td>Low</td>\n",
       "      <td>Tertiary</td>\n",
       "    </tr>\n",
       "  </tbody>\n",
       "</table>\n",
       "</div>"
      ],
      "text/plain": [
       "   JAMB_Score Score_Bracket  Study_Hours_Per_Week  Attendance_Rate  \\\n",
       "0         192       100-200                    22             0.78   \n",
       "\n",
       "  Attendance_Rate_Bracket  Teacher_Quality  Distance_To_School  \\\n",
       "0                 70%-80%                4                12.4   \n",
       "\n",
       "  Distance_To_School.1 School_Type School_Location Extra_Tutorials  \\\n",
       "0              12.4 km      Public           Urban             Yes   \n",
       "\n",
       "  Access_To_Learning_Materials Parent_Involvement IT_Knowledge  Age Gender  \\\n",
       "0                          Yes               High       Medium   17   Male   \n",
       "\n",
       "  Socioeconomic_Status Parent_Education_Level  \n",
       "0                  Low               Tertiary  "
      ]
     },
     "execution_count": 19,
     "metadata": {},
     "output_type": "execute_result"
    }
   ],
   "source": [
    "data.head(1)"
   ]
  },
  {
   "cell_type": "code",
   "execution_count": 20,
   "id": "6f5b4033-fd16-44a9-a509-1b5aecfaeb24",
   "metadata": {},
   "outputs": [
    {
     "data": {
      "text/plain": [
       "84"
      ]
     },
     "execution_count": 20,
     "metadata": {},
     "output_type": "execute_result"
    }
   ],
   "source": [
    "att_rate = data['Attendance_Rate'].mean()\n",
    "att_rate = round(att_rate * 100)\n",
    "att_rate"
   ]
  },
  {
   "cell_type": "code",
   "execution_count": 21,
   "id": "937d2369-b432-4aac-a2a5-4d0f96a499c1",
   "metadata": {},
   "outputs": [
    {
     "name": "stdout",
     "output_type": "stream",
     "text": [
      "The average class attendance rate of students was 84 %\n"
     ]
    }
   ],
   "source": [
    "print('The average class attendance rate of students was',att_rate,'%')"
   ]
  },
  {
   "cell_type": "markdown",
   "id": "685abc21-b445-414c-8f3f-efc2ad7b72bf",
   "metadata": {},
   "source": []
  },
  {
   "cell_type": "markdown",
   "id": "2f2f139d-5f62-49ed-b364-31907ce38b29",
   "metadata": {},
   "source": [
    "### 5) What was the average amount of Study hours per week?"
   ]
  },
  {
   "cell_type": "code",
   "execution_count": 22,
   "id": "ea7c2da2-82df-490a-bff7-ab9a42c7a7d6",
   "metadata": {},
   "outputs": [
    {
     "data": {
      "text/html": [
       "<div>\n",
       "<style scoped>\n",
       "    .dataframe tbody tr th:only-of-type {\n",
       "        vertical-align: middle;\n",
       "    }\n",
       "\n",
       "    .dataframe tbody tr th {\n",
       "        vertical-align: top;\n",
       "    }\n",
       "\n",
       "    .dataframe thead th {\n",
       "        text-align: right;\n",
       "    }\n",
       "</style>\n",
       "<table border=\"1\" class=\"dataframe\">\n",
       "  <thead>\n",
       "    <tr style=\"text-align: right;\">\n",
       "      <th></th>\n",
       "      <th>JAMB_Score</th>\n",
       "      <th>Score_Bracket</th>\n",
       "      <th>Study_Hours_Per_Week</th>\n",
       "      <th>Attendance_Rate</th>\n",
       "      <th>Attendance_Rate_Bracket</th>\n",
       "      <th>Teacher_Quality</th>\n",
       "      <th>Distance_To_School</th>\n",
       "      <th>Distance_To_School.1</th>\n",
       "      <th>School_Type</th>\n",
       "      <th>School_Location</th>\n",
       "      <th>Extra_Tutorials</th>\n",
       "      <th>Access_To_Learning_Materials</th>\n",
       "      <th>Parent_Involvement</th>\n",
       "      <th>IT_Knowledge</th>\n",
       "      <th>Age</th>\n",
       "      <th>Gender</th>\n",
       "      <th>Socioeconomic_Status</th>\n",
       "      <th>Parent_Education_Level</th>\n",
       "    </tr>\n",
       "  </thead>\n",
       "  <tbody>\n",
       "    <tr>\n",
       "      <th>0</th>\n",
       "      <td>192</td>\n",
       "      <td>100-200</td>\n",
       "      <td>22</td>\n",
       "      <td>0.78</td>\n",
       "      <td>70%-80%</td>\n",
       "      <td>4</td>\n",
       "      <td>12.4</td>\n",
       "      <td>12.4 km</td>\n",
       "      <td>Public</td>\n",
       "      <td>Urban</td>\n",
       "      <td>Yes</td>\n",
       "      <td>Yes</td>\n",
       "      <td>High</td>\n",
       "      <td>Medium</td>\n",
       "      <td>17</td>\n",
       "      <td>Male</td>\n",
       "      <td>Low</td>\n",
       "      <td>Tertiary</td>\n",
       "    </tr>\n",
       "  </tbody>\n",
       "</table>\n",
       "</div>"
      ],
      "text/plain": [
       "   JAMB_Score Score_Bracket  Study_Hours_Per_Week  Attendance_Rate  \\\n",
       "0         192       100-200                    22             0.78   \n",
       "\n",
       "  Attendance_Rate_Bracket  Teacher_Quality  Distance_To_School  \\\n",
       "0                 70%-80%                4                12.4   \n",
       "\n",
       "  Distance_To_School.1 School_Type School_Location Extra_Tutorials  \\\n",
       "0              12.4 km      Public           Urban             Yes   \n",
       "\n",
       "  Access_To_Learning_Materials Parent_Involvement IT_Knowledge  Age Gender  \\\n",
       "0                          Yes               High       Medium   17   Male   \n",
       "\n",
       "  Socioeconomic_Status Parent_Education_Level  \n",
       "0                  Low               Tertiary  "
      ]
     },
     "execution_count": 22,
     "metadata": {},
     "output_type": "execute_result"
    }
   ],
   "source": [
    "data.head(1)"
   ]
  },
  {
   "cell_type": "code",
   "execution_count": 23,
   "id": "506f4a3d-e017-43cc-9041-ed7125dd5994",
   "metadata": {},
   "outputs": [
    {
     "data": {
      "text/plain": [
       "19.5"
      ]
     },
     "execution_count": 23,
     "metadata": {},
     "output_type": "execute_result"
    }
   ],
   "source": [
    "avg_stu = data['Study_Hours_Per_Week'].mean()\n",
    "avg_stu = round(avg_stu,1)\n",
    "avg_stu"
   ]
  },
  {
   "cell_type": "code",
   "execution_count": 24,
   "id": "16c3174c-f813-4aeb-ac87-886811ad2486",
   "metadata": {},
   "outputs": [
    {
     "name": "stdout",
     "output_type": "stream",
     "text": [
      "The average amount of study hours per week for students was: 19.5 hours\n"
     ]
    }
   ],
   "source": [
    "print('The average amount of study hours per week for students was:',avg_stu,'hours')"
   ]
  },
  {
   "cell_type": "markdown",
   "id": "b0435a2f-a88c-4e8f-bf37-e860ff26f423",
   "metadata": {},
   "source": []
  },
  {
   "cell_type": "markdown",
   "id": "c868bcbb-b1a1-45d5-bf68-48759d0ffccd",
   "metadata": {},
   "source": [
    "### 6) What was the average age of the students?"
   ]
  },
  {
   "cell_type": "code",
   "execution_count": 25,
   "id": "12ffeb37-b770-4c49-857e-e02bdc84a263",
   "metadata": {},
   "outputs": [
    {
     "data": {
      "text/plain": [
       "18.4"
      ]
     },
     "execution_count": 25,
     "metadata": {},
     "output_type": "execute_result"
    }
   ],
   "source": [
    "avg_age = data['Age'].mean()\n",
    "avg_age = round(avg_age,1)\n",
    "avg_age"
   ]
  },
  {
   "cell_type": "code",
   "execution_count": 26,
   "id": "75eb081d-1f28-4f5b-bf4c-e3f2ebb6bca5",
   "metadata": {},
   "outputs": [
    {
     "name": "stdout",
     "output_type": "stream",
     "text": [
      "The average age of students that took the 2024 JAMB exam was: 18.4 years.\n"
     ]
    }
   ],
   "source": [
    "print('The average age of students that took the 2024 JAMB exam was:',avg_age,'years.')"
   ]
  },
  {
   "cell_type": "markdown",
   "id": "695c0834-0957-4b10-8c4b-dc8697cf7465",
   "metadata": {},
   "source": []
  },
  {
   "cell_type": "markdown",
   "id": "3f1b4f45-d826-4a3c-8dbe-0d86ec1faa26",
   "metadata": {},
   "source": [
    "### 7) Does class attendance rate affect JAMB score?"
   ]
  },
  {
   "cell_type": "code",
   "execution_count": 27,
   "id": "d4446d26-c22e-49d4-82a6-74c5e44b3f79",
   "metadata": {},
   "outputs": [
    {
     "data": {
      "text/html": [
       "<div>\n",
       "<style scoped>\n",
       "    .dataframe tbody tr th:only-of-type {\n",
       "        vertical-align: middle;\n",
       "    }\n",
       "\n",
       "    .dataframe tbody tr th {\n",
       "        vertical-align: top;\n",
       "    }\n",
       "\n",
       "    .dataframe thead th {\n",
       "        text-align: right;\n",
       "    }\n",
       "</style>\n",
       "<table border=\"1\" class=\"dataframe\">\n",
       "  <thead>\n",
       "    <tr style=\"text-align: right;\">\n",
       "      <th></th>\n",
       "      <th>JAMB_Score</th>\n",
       "      <th>Score_Bracket</th>\n",
       "      <th>Study_Hours_Per_Week</th>\n",
       "      <th>Attendance_Rate</th>\n",
       "      <th>Attendance_Rate_Bracket</th>\n",
       "      <th>Teacher_Quality</th>\n",
       "      <th>Distance_To_School</th>\n",
       "      <th>Distance_To_School.1</th>\n",
       "      <th>School_Type</th>\n",
       "      <th>School_Location</th>\n",
       "      <th>Extra_Tutorials</th>\n",
       "      <th>Access_To_Learning_Materials</th>\n",
       "      <th>Parent_Involvement</th>\n",
       "      <th>IT_Knowledge</th>\n",
       "      <th>Age</th>\n",
       "      <th>Gender</th>\n",
       "      <th>Socioeconomic_Status</th>\n",
       "      <th>Parent_Education_Level</th>\n",
       "    </tr>\n",
       "  </thead>\n",
       "  <tbody>\n",
       "    <tr>\n",
       "      <th>0</th>\n",
       "      <td>192</td>\n",
       "      <td>100-200</td>\n",
       "      <td>22</td>\n",
       "      <td>0.78</td>\n",
       "      <td>70%-80%</td>\n",
       "      <td>4</td>\n",
       "      <td>12.4</td>\n",
       "      <td>12.4 km</td>\n",
       "      <td>Public</td>\n",
       "      <td>Urban</td>\n",
       "      <td>Yes</td>\n",
       "      <td>Yes</td>\n",
       "      <td>High</td>\n",
       "      <td>Medium</td>\n",
       "      <td>17</td>\n",
       "      <td>Male</td>\n",
       "      <td>Low</td>\n",
       "      <td>Tertiary</td>\n",
       "    </tr>\n",
       "  </tbody>\n",
       "</table>\n",
       "</div>"
      ],
      "text/plain": [
       "   JAMB_Score Score_Bracket  Study_Hours_Per_Week  Attendance_Rate  \\\n",
       "0         192       100-200                    22             0.78   \n",
       "\n",
       "  Attendance_Rate_Bracket  Teacher_Quality  Distance_To_School  \\\n",
       "0                 70%-80%                4                12.4   \n",
       "\n",
       "  Distance_To_School.1 School_Type School_Location Extra_Tutorials  \\\n",
       "0              12.4 km      Public           Urban             Yes   \n",
       "\n",
       "  Access_To_Learning_Materials Parent_Involvement IT_Knowledge  Age Gender  \\\n",
       "0                          Yes               High       Medium   17   Male   \n",
       "\n",
       "  Socioeconomic_Status Parent_Education_Level  \n",
       "0                  Low               Tertiary  "
      ]
     },
     "execution_count": 27,
     "metadata": {},
     "output_type": "execute_result"
    }
   ],
   "source": [
    "data.head(1)"
   ]
  },
  {
   "cell_type": "code",
   "execution_count": 28,
   "id": "eee33329-5ebb-48f0-a9b8-33540313689c",
   "metadata": {},
   "outputs": [
    {
     "data": {
      "text/plain": [
       "Attendance_Rate_Bracket\n",
       "50%-60%     146.0\n",
       "60%-70%     151.0\n",
       "70%-80%     162.0\n",
       "80%-90%     175.0\n",
       "90%-100%    191.0\n",
       "Name: JAMB_Score, dtype: float64"
      ]
     },
     "execution_count": 28,
     "metadata": {},
     "output_type": "execute_result"
    }
   ],
   "source": [
    "attendance = data.groupby('Attendance_Rate_Bracket')['JAMB_Score'].mean()\n",
    "attendance = round(attendance)\n",
    "attendance"
   ]
  },
  {
   "cell_type": "code",
   "execution_count": 29,
   "id": "124de947-4150-4dad-ae10-1de0b08b19ca",
   "metadata": {},
   "outputs": [
    {
     "data": {
      "image/png": "[encoded data removed]",
      "text/plain": [
       "<Figure size 1000x500 with 1 Axes>"
      ]
     },
     "metadata": {},
     "output_type": "display_data"
    }
   ],
   "source": [
    "plt.figure(figsize=(10,5))\n",
    "sns.barplot(attendance)\n",
    "plt.title('Average JAMB Scores by Attendance Rate', fontweight = 'bold', fontsize = 15)\n",
    "plt.ylabel('Average JAMB Scores', fontweight = 'bold', fontsize = 12)\n",
    "plt.xlabel('Attendance Rate', fontweight = 'bold', fontsize = 12)\n",
    "plt.xticks(fontsize = 12)\n",
    "plt.yticks(fontsize = 12)\n",
    "\n",
    "for i, v in enumerate(attendance.values):\n",
    "    plt.text(i, v + 0.5, f'{v:.1f}', ha='center', va='bottom', fontweight='bold')\n",
    "\n",
    "plt.show()"
   ]
  },
  {
   "cell_type": "markdown",
   "id": "00034a1e-9893-4d31-bd5e-b439ac376229",
   "metadata": {},
   "source": [
    "### 8) Which school location performed better? Rural or Urban?"
   ]
  },
  {
   "cell_type": "code",
   "execution_count": 32,
   "id": "a86da0d7-e6ea-4b96-84ad-0fd5562e584b",
   "metadata": {},
   "outputs": [
    {
     "data": {
      "text/plain": [
       "School_Location\n",
       "Rural    173.0\n",
       "Urban    175.0\n",
       "Name: JAMB_Score, dtype: float64"
      ]
     },
     "execution_count": 32,
     "metadata": {},
     "output_type": "execute_result"
    }
   ],
   "source": [
    "school_location = data.groupby('School_Location')['JAMB_Score'].mean()\n",
    "school_location = round(school_location)\n",
    "school_location"
   ]
  },
  {
   "cell_type": "code",
   "execution_count": 33,
   "id": "75b5fc1a-7288-4269-9471-e5e5a288915d",
   "metadata": {},
   "outputs": [
    {
     "data": {
      "image/png": "[encoded data removed]",
      "text/plain": [
       "<Figure size 1000x500 with 1 Axes>"
      ]
     },
     "metadata": {},
     "output_type": "display_data"
    }
   ],
   "source": [
    "plt.figure(figsize=(10,5))\n",
    "sns.barplot(school_location)\n",
    "plt.title('Which School Location Performed Better? Rural or Urban', fontweight = 'bold', fontsize = 15)\n",
    "plt.ylabel('Average JAMB Scores', fontweight = 'bold', fontsize = 12)\n",
    "plt.xlabel('School Location', fontweight = 'bold', fontsize = 12)\n",
    "plt.xticks(fontsize = 12)\n",
    "plt.yticks(fontsize = 12)\n",
    "\n",
    "for i, v in enumerate(school_location.values):\n",
    "    plt.text(i, v + 0.5, f'{v:.1f}', ha='center', va='bottom', fontweight='bold')\n",
    "\n",
    "plt.show()"
   ]
  },
  {
   "cell_type": "markdown",
   "id": "5e5419df-64ab-45fe-9956-728ae34a1df0",
   "metadata": {},
   "source": [
    "### 9) Do students with access to learning materials score higher?"
   ]
  },
  {
   "cell_type": "code",
   "execution_count": 34,
   "id": "a797b2ee-beeb-4373-a461-40135c509479",
   "metadata": {},
   "outputs": [
    {
     "data": {
      "text/plain": [
       "Access_To_Learning_Materials\n",
       "No     171.0\n",
       "Yes    176.0\n",
       "Name: JAMB_Score, dtype: float64"
      ]
     },
     "execution_count": 34,
     "metadata": {},
     "output_type": "execute_result"
    }
   ],
   "source": [
    "access = data.groupby('Access_To_Learning_Materials')['JAMB_Score'].mean()\n",
    "access = round(access)\n",
    "access"
   ]
  },
  {
   "cell_type": "code",
   "execution_count": 35,
   "id": "f3538f47-840b-4f14-ad65-d46180f5b273",
   "metadata": {},
   "outputs": [
    {
     "data": {
      "image/png": "[encoded data removed]",
      "text/plain": [
       "<Figure size 1000x500 with 1 Axes>"
      ]
     },
     "metadata": {},
     "output_type": "display_data"
    }
   ],
   "source": [
    "plt.figure(figsize=(10,5))\n",
    "sns.barplot(access)\n",
    "plt.title('Did students with access to learning materials score higher?', fontweight = 'bold', fontsize = 15)\n",
    "plt.ylabel('Average JAMB Scores', fontweight = 'bold', fontsize = 12)\n",
    "plt.xlabel('Access To Learning Materials', fontweight = 'bold', fontsize = 12)\n",
    "plt.xticks(fontsize = 12)\n",
    "plt.yticks(fontsize = 12)\n",
    "\n",
    "for i, v in enumerate(access.values):\n",
    "    plt.text(i, v + 0.5, f'{v:.1f}', ha='center', va='bottom', fontweight='bold')\n",
    "\n",
    "plt.show()"
   ]
  },
  {
   "cell_type": "markdown",
   "id": "4937f8b9-e64d-4c71-b3cc-5bdbda407869",
   "metadata": {},
   "source": [
    "### 10) Is there a relationship between Parent Educational Level and JAMB Scores?"
   ]
  },
  {
   "cell_type": "code",
   "execution_count": 36,
   "id": "babae10e-ff4d-46c2-9844-30b1fccce928",
   "metadata": {},
   "outputs": [
    {
     "data": {
      "text/plain": [
       "Parent_Education_Level\n",
       "Primary      169.0\n",
       "Secondary    177.0\n",
       "Tertiary     185.0\n",
       "Name: JAMB_Score, dtype: float64"
      ]
     },
     "execution_count": 36,
     "metadata": {},
     "output_type": "execute_result"
    }
   ],
   "source": [
    "education_level = data.groupby('Parent_Education_Level')['JAMB_Score'].mean()\n",
    "education_level = round(education_level)\n",
    "education_level"
   ]
  },
  {
   "cell_type": "code",
   "execution_count": 37,
   "id": "84034b45-4ee2-47d0-9632-5caa8c6f02e1",
   "metadata": {},
   "outputs": [
    {
     "data": {
      "image/png": "[encoded data removed]",
      "text/plain": [
       "<Figure size 1000x500 with 1 Axes>"
      ]
     },
     "metadata": {},
     "output_type": "display_data"
    }
   ],
   "source": [
    "plt.figure(figsize=(10,5))\n",
    "sns.barplot(education_level)\n",
    "plt.title('Average JAMB Scores by Parent Education Level', fontweight = 'bold', fontsize = 15)\n",
    "plt.ylabel('Average JAMB Scores', fontweight = 'bold', fontsize = 12)\n",
    "plt.xlabel('Parents Education Level', fontweight = 'bold', fontsize = 12)\n",
    "plt.xticks(fontsize = 12)\n",
    "plt.yticks(fontsize = 12)\n",
    "\n",
    "for i, v in enumerate(education_level.values):\n",
    "    plt.text(i, v + 0.5, f'{v:.1f}', ha='center', va='bottom', fontweight='bold')\n",
    "\n",
    "plt.show()"
   ]
  },
  {
   "cell_type": "code",
   "execution_count": null,
   "id": "408b27cf-61ba-414e-aab3-a84e5591e19a",
   "metadata": {},
   "outputs": [],
   "source": []
  },
  {
   "cell_type": "markdown",
   "id": "a177b137-a7dc-4685-bff0-81628e673629",
   "metadata": {},
   "source": [
    "### 11) How does age distribution correlate with scores?"
   ]
  },
  {
   "cell_type": "code",
   "execution_count": 38,
   "id": "fc28d744-b7c0-4f93-bc52-dd5c38a7b5e9",
   "metadata": {},
   "outputs": [
    {
     "data": {
      "text/plain": [
       "Age\n",
       "15    173.0\n",
       "16    179.0\n",
       "17    177.0\n",
       "18    173.0\n",
       "19    174.0\n",
       "20    172.0\n",
       "21    172.0\n",
       "22    172.0\n",
       "Name: JAMB_Score, dtype: float64"
      ]
     },
     "execution_count": 38,
     "metadata": {},
     "output_type": "execute_result"
    }
   ],
   "source": [
    "age_dis = data.groupby('Age')['JAMB_Score'].mean()\n",
    "age_dis = round(age_dis)\n",
    "age_dis"
   ]
  },
  {
   "cell_type": "code",
   "execution_count": 39,
   "id": "2ea88086-0259-430e-b51d-1d85912bea40",
   "metadata": {},
   "outputs": [
    {
     "data": {
      "image/png": "[encoded data removed]",
      "text/plain": [
       "<Figure size 1000x500 with 1 Axes>"
      ]
     },
     "metadata": {},
     "output_type": "display_data"
    }
   ],
   "source": [
    "plt.figure(figsize=(10,5))\n",
    "sns.barplot(age_dis)\n",
    "plt.title('Average JAMB Scores by Age Distribution', fontweight = 'bold', fontsize = 15)\n",
    "plt.ylabel('Average JAMB Scores', fontweight = 'bold', fontsize = 12)\n",
    "plt.xlabel('Age Distribution', fontweight = 'bold', fontsize = 12)\n",
    "plt.xticks(fontsize = 12)\n",
    "plt.yticks(fontsize = 12)\n",
    "\n",
    "for i, v in enumerate(age_dis.values):\n",
    "    plt.text(i, v + 0.5, f'{v:.1f}', ha='center', va='bottom', fontweight='bold')\n",
    "\n",
    "plt.show()"
   ]
  },
  {
   "cell_type": "code",
   "execution_count": null,
   "id": "dabd0173-37a1-4fd7-adcb-9d93bc0ea0dc",
   "metadata": {},
   "outputs": [],
   "source": []
  },
  {
   "cell_type": "markdown",
   "id": "a269435d-cadf-44b2-8b33-2fc117de0af4",
   "metadata": {},
   "source": [
    "### 12) Students Average Scores by Socio-Economic status"
   ]
  },
  {
   "cell_type": "code",
   "execution_count": 44,
   "id": "9faeff44-8890-4e3b-858e-541d84920c0c",
   "metadata": {},
   "outputs": [
    {
     "data": {
      "text/plain": [
       "Socioeconomic_Status\n",
       "High      191.0\n",
       "Low       165.0\n",
       "Medium    174.0\n",
       "Name: JAMB_Score, dtype: float64"
      ]
     },
     "execution_count": 44,
     "metadata": {},
     "output_type": "execute_result"
    }
   ],
   "source": [
    "status = data.groupby('Socioeconomic_Status')['JAMB_Score'].mean()\n",
    "status = round(status)\n",
    "status"
   ]
  },
  {
   "cell_type": "code",
   "execution_count": 46,
   "id": "ca9654f9-88ae-448b-a0fc-4ce01ada3846",
   "metadata": {},
   "outputs": [
    {
     "data": {
      "image/png": "[encoded data removed]",
      "text/plain": [
       "<Figure size 1000x500 with 1 Axes>"
      ]
     },
     "metadata": {},
     "output_type": "display_data"
    }
   ],
   "source": [
    "plt.figure(figsize=(10,5))\n",
    "sns.barplot(status)\n",
    "plt.title('Average JAMB Scores by Socio-Economic Status', fontweight = 'bold', fontsize = 15)\n",
    "plt.ylabel('Average JAMB Scores', fontweight = 'bold', fontsize = 12)\n",
    "plt.xlabel('Socio_Economic Status', fontweight = 'bold', fontsize = 12)\n",
    "plt.xticks(fontsize = 12)\n",
    "plt.yticks(fontsize = 12)\n",
    "\n",
    "for i, v in enumerate(status.values):\n",
    "    plt.text(i, v + 0.5, f'{v:.1f}', ha='center', va='bottom', fontweight='bold')\n",
    "\n",
    "plt.show()"
   ]
  },
  {
   "cell_type": "code",
   "execution_count": null,
   "id": "c64fa830-49a2-4ab1-af24-17df5d2f7f98",
   "metadata": {},
   "outputs": [],
   "source": []
  },
  {
   "cell_type": "markdown",
   "id": "919ee7ae-d94a-4b2d-a8de-a37575c7436c",
   "metadata": {},
   "source": [
    "### 13) Students Average Scores by School Type"
   ]
  },
  {
   "cell_type": "code",
   "execution_count": 47,
   "id": "fe336e47-b318-45ad-a0be-b12da3c9ff59",
   "metadata": {},
   "outputs": [
    {
     "data": {
      "text/html": [
       "<div>\n",
       "<style scoped>\n",
       "    .dataframe tbody tr th:only-of-type {\n",
       "        vertical-align: middle;\n",
       "    }\n",
       "\n",
       "    .dataframe tbody tr th {\n",
       "        vertical-align: top;\n",
       "    }\n",
       "\n",
       "    .dataframe thead th {\n",
       "        text-align: right;\n",
       "    }\n",
       "</style>\n",
       "<table border=\"1\" class=\"dataframe\">\n",
       "  <thead>\n",
       "    <tr style=\"text-align: right;\">\n",
       "      <th></th>\n",
       "      <th>JAMB_Score</th>\n",
       "      <th>Score_Bracket</th>\n",
       "      <th>Study_Hours_Per_Week</th>\n",
       "      <th>Attendance_Rate</th>\n",
       "      <th>Attendance_Rate_Bracket</th>\n",
       "      <th>Teacher_Quality</th>\n",
       "      <th>Distance_To_School</th>\n",
       "      <th>Distance_To_School.1</th>\n",
       "      <th>School_Type</th>\n",
       "      <th>School_Location</th>\n",
       "      <th>Extra_Tutorials</th>\n",
       "      <th>Access_To_Learning_Materials</th>\n",
       "      <th>Parent_Involvement</th>\n",
       "      <th>IT_Knowledge</th>\n",
       "      <th>Age</th>\n",
       "      <th>Gender</th>\n",
       "      <th>Socioeconomic_Status</th>\n",
       "      <th>Parent_Education_Level</th>\n",
       "    </tr>\n",
       "  </thead>\n",
       "  <tbody>\n",
       "    <tr>\n",
       "      <th>0</th>\n",
       "      <td>192</td>\n",
       "      <td>100-200</td>\n",
       "      <td>22</td>\n",
       "      <td>0.78</td>\n",
       "      <td>70%-80%</td>\n",
       "      <td>4</td>\n",
       "      <td>12.4</td>\n",
       "      <td>12.4 km</td>\n",
       "      <td>Public</td>\n",
       "      <td>Urban</td>\n",
       "      <td>Yes</td>\n",
       "      <td>Yes</td>\n",
       "      <td>High</td>\n",
       "      <td>Medium</td>\n",
       "      <td>17</td>\n",
       "      <td>Male</td>\n",
       "      <td>Low</td>\n",
       "      <td>Tertiary</td>\n",
       "    </tr>\n",
       "    <tr>\n",
       "      <th>1</th>\n",
       "      <td>207</td>\n",
       "      <td>200-300</td>\n",
       "      <td>14</td>\n",
       "      <td>0.88</td>\n",
       "      <td>80%-90%</td>\n",
       "      <td>4</td>\n",
       "      <td>2.7</td>\n",
       "      <td>2.7 km</td>\n",
       "      <td>Public</td>\n",
       "      <td>Rural</td>\n",
       "      <td>No</td>\n",
       "      <td>Yes</td>\n",
       "      <td>High</td>\n",
       "      <td>High</td>\n",
       "      <td>15</td>\n",
       "      <td>Male</td>\n",
       "      <td>High</td>\n",
       "      <td>NaN</td>\n",
       "    </tr>\n",
       "  </tbody>\n",
       "</table>\n",
       "</div>"
      ],
      "text/plain": [
       "   JAMB_Score Score_Bracket  Study_Hours_Per_Week  Attendance_Rate  \\\n",
       "0         192       100-200                    22             0.78   \n",
       "1         207       200-300                    14             0.88   \n",
       "\n",
       "  Attendance_Rate_Bracket  Teacher_Quality  Distance_To_School  \\\n",
       "0                 70%-80%                4                12.4   \n",
       "1                 80%-90%                4                 2.7   \n",
       "\n",
       "  Distance_To_School.1 School_Type School_Location Extra_Tutorials  \\\n",
       "0              12.4 km      Public           Urban             Yes   \n",
       "1               2.7 km      Public           Rural              No   \n",
       "\n",
       "  Access_To_Learning_Materials Parent_Involvement IT_Knowledge  Age Gender  \\\n",
       "0                          Yes               High       Medium   17   Male   \n",
       "1                          Yes               High         High   15   Male   \n",
       "\n",
       "  Socioeconomic_Status Parent_Education_Level  \n",
       "0                  Low               Tertiary  \n",
       "1                 High                    NaN  "
      ]
     },
     "execution_count": 47,
     "metadata": {},
     "output_type": "execute_result"
    }
   ],
   "source": [
    "data.head(2)"
   ]
  },
  {
   "cell_type": "code",
   "execution_count": 51,
   "id": "e97c2f3b-631a-4dd2-b913-ad74a91a7337",
   "metadata": {},
   "outputs": [
    {
     "data": {
      "text/plain": [
       "School_Type\n",
       "Private    181.0\n",
       "Public     172.0\n",
       "Name: JAMB_Score, dtype: float64"
      ]
     },
     "execution_count": 51,
     "metadata": {},
     "output_type": "execute_result"
    }
   ],
   "source": [
    "sch_type = data.groupby('School_Type')['JAMB_Score'].mean()\n",
    "sch_type = round(sch_type)\n",
    "sch_type"
   ]
  },
  {
   "cell_type": "code",
   "execution_count": 52,
   "id": "5f013526-b451-4fbd-89af-f824655476de",
   "metadata": {},
   "outputs": [
    {
     "data": {
      "image/png": "[encoded data removed]",
      "text/plain": [
       "<Figure size 1000x500 with 1 Axes>"
      ]
     },
     "metadata": {},
     "output_type": "display_data"
    }
   ],
   "source": [
    "plt.figure(figsize=(10,5))\n",
    "sns.barplot(sch_type)\n",
    "plt.title('Average JAMB Scores by School Tpye', fontweight = 'bold', fontsize = 15)\n",
    "plt.ylabel('Average JAMB Scores', fontweight = 'bold', fontsize = 12)\n",
    "plt.xlabel('School Type', fontweight = 'bold', fontsize = 12)\n",
    "plt.xticks(fontsize = 12)\n",
    "plt.yticks(fontsize = 12)\n",
    "\n",
    "for i, v in enumerate(sch_type.values):\n",
    "    plt.text(i, v + 0.5, f'{v:.1f}', ha='center', va='bottom', fontweight='bold')\n",
    "\n",
    "plt.show()"
   ]
  },
  {
   "cell_type": "code",
   "execution_count": null,
   "id": "0cd5e360-14de-42f9-b0d8-514da89f6569",
   "metadata": {},
   "outputs": [],
   "source": []
  },
  {
   "cell_type": "markdown",
   "id": "18cf38de-a257-4f0d-9045-c3b633606125",
   "metadata": {},
   "source": [
    "### 14) What is the count, average JAMB scores, Highest JAMB score and Lowest JAMB score of 17 year-old female students who attended public schools in an urban location, attended 80-90% of their classes and also had access to learning materials?"
   ]
  },
  {
   "cell_type": "code",
   "execution_count": 63,
   "id": "12601844-824f-4fc0-b346-19438c0e3334",
   "metadata": {},
   "outputs": [],
   "source": [
    "data2 = data[(data['Age'] == 17) &(data['Gender'] == 'Female') & (data['School_Type'] == 'Public') & (data['School_Location'] == 'Urban') & (data['Attendance_Rate_Bracket'] == '80%-90%') & (data['Access_To_Learning_Materials'] == 'Yes')]"
   ]
  },
  {
   "cell_type": "code",
   "execution_count": 64,
   "id": "16f4bbf4-e489-4f84-9d2d-e6716e08b6ca",
   "metadata": {},
   "outputs": [
    {
     "data": {
      "text/html": [
       "<div>\n",
       "<style scoped>\n",
       "    .dataframe tbody tr th:only-of-type {\n",
       "        vertical-align: middle;\n",
       "    }\n",
       "\n",
       "    .dataframe tbody tr th {\n",
       "        vertical-align: top;\n",
       "    }\n",
       "\n",
       "    .dataframe thead th {\n",
       "        text-align: right;\n",
       "    }\n",
       "</style>\n",
       "<table border=\"1\" class=\"dataframe\">\n",
       "  <thead>\n",
       "    <tr style=\"text-align: right;\">\n",
       "      <th></th>\n",
       "      <th>JAMB_Score</th>\n",
       "      <th>Score_Bracket</th>\n",
       "      <th>Study_Hours_Per_Week</th>\n",
       "      <th>Attendance_Rate</th>\n",
       "      <th>Attendance_Rate_Bracket</th>\n",
       "      <th>Teacher_Quality</th>\n",
       "      <th>Distance_To_School</th>\n",
       "      <th>Distance_To_School.1</th>\n",
       "      <th>School_Type</th>\n",
       "      <th>School_Location</th>\n",
       "      <th>Extra_Tutorials</th>\n",
       "      <th>Access_To_Learning_Materials</th>\n",
       "      <th>Parent_Involvement</th>\n",
       "      <th>IT_Knowledge</th>\n",
       "      <th>Age</th>\n",
       "      <th>Gender</th>\n",
       "      <th>Socioeconomic_Status</th>\n",
       "      <th>Parent_Education_Level</th>\n",
       "    </tr>\n",
       "  </thead>\n",
       "  <tbody>\n",
       "    <tr>\n",
       "      <th>64</th>\n",
       "      <td>135</td>\n",
       "      <td>100-200</td>\n",
       "      <td>14</td>\n",
       "      <td>0.86</td>\n",
       "      <td>80%-90%</td>\n",
       "      <td>3</td>\n",
       "      <td>12.3</td>\n",
       "      <td>12.3 km</td>\n",
       "      <td>Public</td>\n",
       "      <td>Urban</td>\n",
       "      <td>No</td>\n",
       "      <td>Yes</td>\n",
       "      <td>Medium</td>\n",
       "      <td>Low</td>\n",
       "      <td>17</td>\n",
       "      <td>Female</td>\n",
       "      <td>Medium</td>\n",
       "      <td>Primary</td>\n",
       "    </tr>\n",
       "    <tr>\n",
       "      <th>111</th>\n",
       "      <td>159</td>\n",
       "      <td>100-200</td>\n",
       "      <td>19</td>\n",
       "      <td>0.88</td>\n",
       "      <td>80%-90%</td>\n",
       "      <td>2</td>\n",
       "      <td>14.4</td>\n",
       "      <td>14.4 km</td>\n",
       "      <td>Public</td>\n",
       "      <td>Urban</td>\n",
       "      <td>Yes</td>\n",
       "      <td>Yes</td>\n",
       "      <td>Low</td>\n",
       "      <td>Low</td>\n",
       "      <td>17</td>\n",
       "      <td>Female</td>\n",
       "      <td>Medium</td>\n",
       "      <td>Secondary</td>\n",
       "    </tr>\n",
       "  </tbody>\n",
       "</table>\n",
       "</div>"
      ],
      "text/plain": [
       "     JAMB_Score Score_Bracket  Study_Hours_Per_Week  Attendance_Rate  \\\n",
       "64          135       100-200                    14             0.86   \n",
       "111         159       100-200                    19             0.88   \n",
       "\n",
       "    Attendance_Rate_Bracket  Teacher_Quality  Distance_To_School  \\\n",
       "64                  80%-90%                3                12.3   \n",
       "111                 80%-90%                2                14.4   \n",
       "\n",
       "    Distance_To_School.1 School_Type School_Location Extra_Tutorials  \\\n",
       "64               12.3 km      Public           Urban              No   \n",
       "111              14.4 km      Public           Urban             Yes   \n",
       "\n",
       "    Access_To_Learning_Materials Parent_Involvement IT_Knowledge  Age  Gender  \\\n",
       "64                           Yes             Medium          Low   17  Female   \n",
       "111                          Yes                Low          Low   17  Female   \n",
       "\n",
       "    Socioeconomic_Status Parent_Education_Level  \n",
       "64                Medium                Primary  \n",
       "111               Medium              Secondary  "
      ]
     },
     "execution_count": 64,
     "metadata": {},
     "output_type": "execute_result"
    }
   ],
   "source": [
    "data2.head(2)"
   ]
  },
  {
   "cell_type": "code",
   "execution_count": 70,
   "id": "a10087b1-638f-4495-978e-9e8918fb5d6e",
   "metadata": {},
   "outputs": [
    {
     "name": "stdout",
     "output_type": "stream",
     "text": [
      "The count of students is 41\n"
     ]
    }
   ],
   "source": [
    "count = data2['JAMB_Score'].count()\n",
    "print('The count of students is',count)"
   ]
  },
  {
   "cell_type": "code",
   "execution_count": 66,
   "id": "3ab21f59-5c95-4e83-91eb-fa748f496ea6",
   "metadata": {},
   "outputs": [
    {
     "name": "stdout",
     "output_type": "stream",
     "text": [
      "The average JAMB score is 173\n"
     ]
    }
   ],
   "source": [
    "avg_jamb = data2['JAMB_Score'].mean()\n",
    "avg_jamb = round(avg_jamb)\n",
    "print('The average JAMB score is',avg_jamb )"
   ]
  },
  {
   "cell_type": "code",
   "execution_count": 74,
   "id": "624817d4-364c-45d3-b875-1052b599c902",
   "metadata": {},
   "outputs": [
    {
     "name": "stdout",
     "output_type": "stream",
     "text": [
      "The highest JAMB score is 249\n"
     ]
    }
   ],
   "source": [
    "h_jamb = data2['JAMB_Score'].max()\n",
    "h_jamb\n",
    "print('The highest JAMB score is',h_jamb)"
   ]
  },
  {
   "cell_type": "code",
   "execution_count": 76,
   "id": "26555312-83c4-4933-8e7c-95b095fe768b",
   "metadata": {},
   "outputs": [
    {
     "name": "stdout",
     "output_type": "stream",
     "text": [
      "The lowest JAMB score is 104\n"
     ]
    }
   ],
   "source": [
    "l_jamb = data2['JAMB_Score'].min()\n",
    "l_jamb\n",
    "print('The lowest JAMB score is',l_jamb)"
   ]
  },
  {
   "cell_type": "code",
   "execution_count": null,
   "id": "660550a3-f621-4f16-8858-13761db68499",
   "metadata": {},
   "outputs": [],
   "source": []
  },
  {
   "cell_type": "code",
   "execution_count": null,
   "id": "0c9b5e63-ea8b-4af9-bd59-5f61c2f7e13a",
   "metadata": {},
   "outputs": [],
   "source": []
  }
 ],
 "metadata": {
  "kernelspec": {
   "display_name": "Python 3 (ipykernel)",
   "language": "python",
   "name": "python3"
  },
  "language_info": {
   "codemirror_mode": {
    "name": "ipython",
    "version": 3
   },
   "file_extension": ".py",
   "mimetype": "text/x-python",
   "name": "python",
   "nbconvert_exporter": "python",
   "pygments_lexer": "ipython3",
   "version": "3.12.7"
  }
 },
 "nbformat": 4,
 "nbformat_minor": 5
}
